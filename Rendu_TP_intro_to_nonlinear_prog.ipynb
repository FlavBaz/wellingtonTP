{
 "cells": [
  {
   "cell_type": "markdown",
   "id": "392a3348",
   "metadata": {},
   "source": [
    "# A brief introduction to nonlinear programming"
   ]
  },
  {
   "cell_type": "markdown",
   "id": "7fa276c9",
   "metadata": {},
   "source": [
    "## 1 Unconstrained optimization"
   ]
  },
  {
   "cell_type": "markdown",
   "id": "dc3a4520",
   "metadata": {},
   "source": [
    "### Task 1"
   ]
  },
  {
   "cell_type": "code",
   "execution_count": 1,
   "id": "6bbdf6cb",
   "metadata": {},
   "outputs": [],
   "source": [
    "import numpy as np\n",
    "\n",
    "def f1(x):\n",
    "    x1, x2 = x[0], x[1]\n",
    "    return x1**2 + x2**2 - 2*x1*x2\n",
    "\n",
    "def f2(x):\n",
    "    x1, x2 = x[0], x[1]\n",
    "    return 10*(x2-x1**2)**2 + (1-x1)**2\n",
    "\n",
    "def f3(x):\n",
    "    return np.dot(x, x) * 0.5\n",
    "\n",
    "def oracle_f1(x, mode=2):\n",
    "    x1, x2 = x[0], x[1]\n",
    "    if mode == 1:\n",
    "        return f1(x)\n",
    "    if mode == 3:\n",
    "        g = np.array([2*x1 - 2*x2, 2*x2 - 2*x1])\n",
    "        return g\n",
    "    if mode == 2:\n",
    "        f = f1(x)\n",
    "        g = np.array([2*x1 - 2*x2, 2*x2 - 2*x1])\n",
    "        return f, g\n",
    "\n",
    "def oracle_f2(x, mode=2):\n",
    "    x1, x2 = x[0], x[1]\n",
    "    if mode == 1:\n",
    "        return f2(x)\n",
    "    if mode == 3:\n",
    "        g = np.array([-40*x1*(x2-x1**2) - 2*(1-x1),\n",
    "                      20*(x2-x1**2)])\n",
    "        return g\n",
    "    if mode == 2:\n",
    "        f = f2(x)\n",
    "        g = np.array([-40*x1*(x2-x1**2) - 2*(1-x1),\n",
    "                      20*(x2-x1**2)])\n",
    "        return f, g\n",
    "\n",
    "def oracle_f3(x, mode=2):\n",
    "    if mode == 1:\n",
    "        return f3(x)\n",
    "    if mode == 3:\n",
    "        g = x.copy()\n",
    "        return g\n",
    "    if mode == 2:\n",
    "        f = f3(x)\n",
    "        g = x.copy()\n",
    "        return f, g\n"
   ]
  },
  {
   "cell_type": "code",
   "execution_count": 2,
   "id": "f519a924",
   "metadata": {},
   "outputs": [
    {
     "data": {
      "text/plain": [
       "(array([576.,   9.]),\n",
       " array([[ 48.,   6.],\n",
       "        [-48.,  -6.]]))"
      ]
     },
     "execution_count": 2,
     "metadata": {},
     "output_type": "execute_result"
    }
   ],
   "source": [
    "oracle_f1(np.array([np.array([25.0,4.0]), np.array([1.0,1.0])]))"
   ]
  },
  {
   "cell_type": "markdown",
   "id": "a8b35da6",
   "metadata": {},
   "source": [
    "### Task 2"
   ]
  },
  {
   "cell_type": "code",
   "execution_count": null,
   "id": "968e899c",
   "metadata": {},
   "outputs": [],
   "source": [
    "# dxfcghjk"
   ]
  },
  {
   "cell_type": "code",
   "execution_count": 3,
   "id": "6741810a",
   "metadata": {},
   "outputs": [
    {
     "name": "stdout",
     "output_type": "stream",
     "text": [
      "This is a test print statement.\n"
     ]
    }
   ],
   "source": [
    "print(\"This is a test print statement.\")"
   ]
  },
  {
   "cell_type": "code",
   "execution_count": 1,
   "id": "0bd831fe",
   "metadata": {},
   "outputs": [
    {
     "ename": "NameError",
     "evalue": "name 'oracle_f2' is not defined",
     "output_type": "error",
     "traceback": [
      "\u001b[31m---------------------------------------------------------------------------\u001b[39m",
      "\u001b[31mNameError\u001b[39m                                 Traceback (most recent call last)",
      "\u001b[36mCell\u001b[39m\u001b[36m \u001b[39m\u001b[32mIn[1]\u001b[39m\u001b[32m, line 1\u001b[39m\n\u001b[32m----> \u001b[39m\u001b[32m1\u001b[39m \u001b[38;5;28mprint\u001b[39m(\u001b[43moracle_f2\u001b[49m(np.array([\u001b[32m1.0\u001b[39m,\u001b[32m1.0\u001b[39m]), mode=\u001b[32m2\u001b[39m))\n",
      "\u001b[31mNameError\u001b[39m: name 'oracle_f2' is not defined"
     ]
    }
   ],
   "source": [
    "print(oracle_f2(np.array([1.0,1.0]), mode=2))"
   ]
  }
 ],
 "metadata": {
  "kernelspec": {
   "display_name": "optim_env_wsl (3.12.3)",
   "language": "python",
   "name": "python3"
  },
  "language_info": {
   "codemirror_mode": {
    "name": "ipython",
    "version": 3
   },
   "file_extension": ".py",
   "mimetype": "text/x-python",
   "name": "python",
   "nbconvert_exporter": "python",
   "pygments_lexer": "ipython3",
   "version": "3.12.3"
  }
 },
 "nbformat": 4,
 "nbformat_minor": 5
}
